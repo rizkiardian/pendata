{
  "nbformat": 4,
  "nbformat_minor": 0,
  "metadata": {
    "colab": {
      "provenance": []
    },
    "kernelspec": {
      "name": "python3",
      "display_name": "Python 3"
    },
    "language_info": {
      "name": "python"
    }
  },
  "cells": [
    {
      "cell_type": "markdown",
      "source": [
        "# Tugas Akhir (Decision Tree, KNN, Naive Bayes, BNN)"
      ],
      "metadata": {
        "id": "_gDiC5FreaEn"
      }
    },
    {
      "cell_type": "markdown",
      "source": [
        "**Nama  : Rizki Ardian Samudra**\n",
        "\n",
        "**NIM   : 210411100179**\n",
        "\n",
        "**Kelas : Penambangan Data-C**"
      ],
      "metadata": {
        "id": "ZtdZ7YX_bjxq"
      }
    },
    {
      "cell_type": "markdown",
      "source": [
        "Dataset Anemia ini berisi atribut Gender (Jenis Kelamin), Hemoglobin, MCHC, MCV, MCH, dan Results (Hasil). Dataset ini digunakan untuk memprediksi apakah seorang pasien berpotensi menderita anemia.\n",
        "\n",
        "Jenis Kelamin: 0 - laki-laki, 1 - perempuan\n",
        "\n",
        "Hemoglobin: Hemoglobin adalah protein dalam sel darah merah yang membawa oksigen ke organ dan jaringan tubuh Anda serta mengangkut karbon dioksida dari organ dan jaringan tubuh Anda kembali ke paru-paru.\n",
        "\n",
        "MCH: MCH singkatan dari \"mean corpuscular hemoglobin\" (rata-rata jumlah hemoglobin di setiap sel darah merah). Hemoglobin ini membawa oksigen di sekitar tubuh Anda.\n",
        "\n",
        "MCHC: MCHC singkatan dari mean corpuscular hemoglobin concentration (konsentrasi rata-rata hemoglobin dalam satu sel darah merah). Ini adalah ukuran konsentrasi rata-rata hemoglobin dalam satu sel darah merah.\n",
        "\n",
        "MCV: MCV singkatan dari mean corpuscular volume (volume rata-rata korpuskular merah). Tes darah MCV mengukur ukuran rata-rata sel darah merah Anda.\n",
        "\n",
        "Results: 0- tidak anemia, 1- anemia"
      ],
      "metadata": {
        "id": "1jZQ9ZMlhYl7"
      }
    },
    {
      "cell_type": "markdown",
      "source": [
        "Mengimport library yang diperlukan"
      ],
      "metadata": {
        "id": "hQIIXCcqexvH"
      }
    },
    {
      "cell_type": "code",
      "execution_count": 164,
      "metadata": {
        "id": "691ByL7-dcqJ"
      },
      "outputs": [],
      "source": [
        "import pickle\n",
        "import pandas as pd\n",
        "import numpy as np\n",
        "from sklearn.preprocessing import MinMaxScaler\n",
        "from sklearn.preprocessing import LabelEncoder\n",
        "from sklearn.model_selection import train_test_split\n",
        "from sklearn.metrics import accuracy_score"
      ]
    },
    {
      "cell_type": "markdown",
      "source": [
        "Mengimport data kita"
      ],
      "metadata": {
        "id": "xwuP73jWjBPP"
      }
    },
    {
      "cell_type": "code",
      "source": [
        "df = pd.read_csv('https://gist.githubusercontent.com/rizkiardian/1b0b56e5335a1f71da098adc4ba605a1/raw/2c4fdd4f65ef3bb745f6918b8e7c6c6462b77060/anemia.csv')\n",
        "\n",
        "jumlah_baris = df.shape[0]\n",
        "df.head(jumlah_baris)"
      ],
      "metadata": {
        "colab": {
          "base_uri": "https://localhost:8080/",
          "height": 423
        },
        "id": "0Mtpa8jk1QSJ",
        "outputId": "d81402f9-55be-475f-d381-b9f7eb1299cd"
      },
      "execution_count": 165,
      "outputs": [
        {
          "output_type": "execute_result",
          "data": {
            "text/plain": [
              "      Gender  Hemoglobin   MCH  MCHC   MCV  Result\n",
              "0          1        14.9  22.7  29.1  83.7       0\n",
              "1          0        15.9  25.4  28.3  72.0       0\n",
              "2          0         9.0  21.5  29.6  71.2       1\n",
              "3          0        14.9  16.0  31.4  87.5       0\n",
              "4          1        14.7  22.0  28.2  99.5       0\n",
              "...      ...         ...   ...   ...   ...     ...\n",
              "1416       0        10.6  25.4  28.2  82.9       1\n",
              "1417       1        12.1  28.3  30.4  86.9       1\n",
              "1418       1        13.1  17.7  28.1  80.7       1\n",
              "1419       0        14.3  16.2  29.5  95.2       0\n",
              "1420       0        11.8  21.2  28.4  98.1       1\n",
              "\n",
              "[1421 rows x 6 columns]"
            ],
            "text/html": [
              "\n",
              "  <div id=\"df-2d238108-5dd0-4e06-9e8a-abb0ea94056e\">\n",
              "    <div class=\"colab-df-container\">\n",
              "      <div>\n",
              "<style scoped>\n",
              "    .dataframe tbody tr th:only-of-type {\n",
              "        vertical-align: middle;\n",
              "    }\n",
              "\n",
              "    .dataframe tbody tr th {\n",
              "        vertical-align: top;\n",
              "    }\n",
              "\n",
              "    .dataframe thead th {\n",
              "        text-align: right;\n",
              "    }\n",
              "</style>\n",
              "<table border=\"1\" class=\"dataframe\">\n",
              "  <thead>\n",
              "    <tr style=\"text-align: right;\">\n",
              "      <th></th>\n",
              "      <th>Gender</th>\n",
              "      <th>Hemoglobin</th>\n",
              "      <th>MCH</th>\n",
              "      <th>MCHC</th>\n",
              "      <th>MCV</th>\n",
              "      <th>Result</th>\n",
              "    </tr>\n",
              "  </thead>\n",
              "  <tbody>\n",
              "    <tr>\n",
              "      <th>0</th>\n",
              "      <td>1</td>\n",
              "      <td>14.9</td>\n",
              "      <td>22.7</td>\n",
              "      <td>29.1</td>\n",
              "      <td>83.7</td>\n",
              "      <td>0</td>\n",
              "    </tr>\n",
              "    <tr>\n",
              "      <th>1</th>\n",
              "      <td>0</td>\n",
              "      <td>15.9</td>\n",
              "      <td>25.4</td>\n",
              "      <td>28.3</td>\n",
              "      <td>72.0</td>\n",
              "      <td>0</td>\n",
              "    </tr>\n",
              "    <tr>\n",
              "      <th>2</th>\n",
              "      <td>0</td>\n",
              "      <td>9.0</td>\n",
              "      <td>21.5</td>\n",
              "      <td>29.6</td>\n",
              "      <td>71.2</td>\n",
              "      <td>1</td>\n",
              "    </tr>\n",
              "    <tr>\n",
              "      <th>3</th>\n",
              "      <td>0</td>\n",
              "      <td>14.9</td>\n",
              "      <td>16.0</td>\n",
              "      <td>31.4</td>\n",
              "      <td>87.5</td>\n",
              "      <td>0</td>\n",
              "    </tr>\n",
              "    <tr>\n",
              "      <th>4</th>\n",
              "      <td>1</td>\n",
              "      <td>14.7</td>\n",
              "      <td>22.0</td>\n",
              "      <td>28.2</td>\n",
              "      <td>99.5</td>\n",
              "      <td>0</td>\n",
              "    </tr>\n",
              "    <tr>\n",
              "      <th>...</th>\n",
              "      <td>...</td>\n",
              "      <td>...</td>\n",
              "      <td>...</td>\n",
              "      <td>...</td>\n",
              "      <td>...</td>\n",
              "      <td>...</td>\n",
              "    </tr>\n",
              "    <tr>\n",
              "      <th>1416</th>\n",
              "      <td>0</td>\n",
              "      <td>10.6</td>\n",
              "      <td>25.4</td>\n",
              "      <td>28.2</td>\n",
              "      <td>82.9</td>\n",
              "      <td>1</td>\n",
              "    </tr>\n",
              "    <tr>\n",
              "      <th>1417</th>\n",
              "      <td>1</td>\n",
              "      <td>12.1</td>\n",
              "      <td>28.3</td>\n",
              "      <td>30.4</td>\n",
              "      <td>86.9</td>\n",
              "      <td>1</td>\n",
              "    </tr>\n",
              "    <tr>\n",
              "      <th>1418</th>\n",
              "      <td>1</td>\n",
              "      <td>13.1</td>\n",
              "      <td>17.7</td>\n",
              "      <td>28.1</td>\n",
              "      <td>80.7</td>\n",
              "      <td>1</td>\n",
              "    </tr>\n",
              "    <tr>\n",
              "      <th>1419</th>\n",
              "      <td>0</td>\n",
              "      <td>14.3</td>\n",
              "      <td>16.2</td>\n",
              "      <td>29.5</td>\n",
              "      <td>95.2</td>\n",
              "      <td>0</td>\n",
              "    </tr>\n",
              "    <tr>\n",
              "      <th>1420</th>\n",
              "      <td>0</td>\n",
              "      <td>11.8</td>\n",
              "      <td>21.2</td>\n",
              "      <td>28.4</td>\n",
              "      <td>98.1</td>\n",
              "      <td>1</td>\n",
              "    </tr>\n",
              "  </tbody>\n",
              "</table>\n",
              "<p>1421 rows × 6 columns</p>\n",
              "</div>\n",
              "      <button class=\"colab-df-convert\" onclick=\"convertToInteractive('df-2d238108-5dd0-4e06-9e8a-abb0ea94056e')\"\n",
              "              title=\"Convert this dataframe to an interactive table.\"\n",
              "              style=\"display:none;\">\n",
              "        \n",
              "  <svg xmlns=\"http://www.w3.org/2000/svg\" height=\"24px\"viewBox=\"0 0 24 24\"\n",
              "       width=\"24px\">\n",
              "    <path d=\"M0 0h24v24H0V0z\" fill=\"none\"/>\n",
              "    <path d=\"M18.56 5.44l.94 2.06.94-2.06 2.06-.94-2.06-.94-.94-2.06-.94 2.06-2.06.94zm-11 1L8.5 8.5l.94-2.06 2.06-.94-2.06-.94L8.5 2.5l-.94 2.06-2.06.94zm10 10l.94 2.06.94-2.06 2.06-.94-2.06-.94-.94-2.06-.94 2.06-2.06.94z\"/><path d=\"M17.41 7.96l-1.37-1.37c-.4-.4-.92-.59-1.43-.59-.52 0-1.04.2-1.43.59L10.3 9.45l-7.72 7.72c-.78.78-.78 2.05 0 2.83L4 21.41c.39.39.9.59 1.41.59.51 0 1.02-.2 1.41-.59l7.78-7.78 2.81-2.81c.8-.78.8-2.07 0-2.86zM5.41 20L4 18.59l7.72-7.72 1.47 1.35L5.41 20z\"/>\n",
              "  </svg>\n",
              "      </button>\n",
              "      \n",
              "  <style>\n",
              "    .colab-df-container {\n",
              "      display:flex;\n",
              "      flex-wrap:wrap;\n",
              "      gap: 12px;\n",
              "    }\n",
              "\n",
              "    .colab-df-convert {\n",
              "      background-color: #E8F0FE;\n",
              "      border: none;\n",
              "      border-radius: 50%;\n",
              "      cursor: pointer;\n",
              "      display: none;\n",
              "      fill: #1967D2;\n",
              "      height: 32px;\n",
              "      padding: 0 0 0 0;\n",
              "      width: 32px;\n",
              "    }\n",
              "\n",
              "    .colab-df-convert:hover {\n",
              "      background-color: #E2EBFA;\n",
              "      box-shadow: 0px 1px 2px rgba(60, 64, 67, 0.3), 0px 1px 3px 1px rgba(60, 64, 67, 0.15);\n",
              "      fill: #174EA6;\n",
              "    }\n",
              "\n",
              "    [theme=dark] .colab-df-convert {\n",
              "      background-color: #3B4455;\n",
              "      fill: #D2E3FC;\n",
              "    }\n",
              "\n",
              "    [theme=dark] .colab-df-convert:hover {\n",
              "      background-color: #434B5C;\n",
              "      box-shadow: 0px 1px 3px 1px rgba(0, 0, 0, 0.15);\n",
              "      filter: drop-shadow(0px 1px 2px rgba(0, 0, 0, 0.3));\n",
              "      fill: #FFFFFF;\n",
              "    }\n",
              "  </style>\n",
              "\n",
              "      <script>\n",
              "        const buttonEl =\n",
              "          document.querySelector('#df-2d238108-5dd0-4e06-9e8a-abb0ea94056e button.colab-df-convert');\n",
              "        buttonEl.style.display =\n",
              "          google.colab.kernel.accessAllowed ? 'block' : 'none';\n",
              "\n",
              "        async function convertToInteractive(key) {\n",
              "          const element = document.querySelector('#df-2d238108-5dd0-4e06-9e8a-abb0ea94056e');\n",
              "          const dataTable =\n",
              "            await google.colab.kernel.invokeFunction('convertToInteractive',\n",
              "                                                     [key], {});\n",
              "          if (!dataTable) return;\n",
              "\n",
              "          const docLinkHtml = 'Like what you see? Visit the ' +\n",
              "            '<a target=\"_blank\" href=https://colab.research.google.com/notebooks/data_table.ipynb>data table notebook</a>'\n",
              "            + ' to learn more about interactive tables.';\n",
              "          element.innerHTML = '';\n",
              "          dataTable['output_type'] = 'display_data';\n",
              "          await google.colab.output.renderOutput(dataTable, element);\n",
              "          const docLink = document.createElement('div');\n",
              "          docLink.innerHTML = docLinkHtml;\n",
              "          element.appendChild(docLink);\n",
              "        }\n",
              "      </script>\n",
              "    </div>\n",
              "  </div>\n",
              "  "
            ]
          },
          "metadata": {},
          "execution_count": 165
        }
      ]
    },
    {
      "cell_type": "markdown",
      "source": [
        "Mengubah fitur gender dan label result sesuai data asli"
      ],
      "metadata": {
        "id": "flwgSVVgsc5B"
      }
    },
    {
      "cell_type": "code",
      "source": [
        "# Mengubah nilai pada kolom Gender\n",
        "df['Gender'] = df['Gender'].map({0: 'Laki-laki', 1: 'Perempuan'})\n",
        "\n",
        "# Mengubah nilai pada kolom Results\n",
        "df['Result'] = df['Result'].map({0: 'Tidak Anemia', 1: 'Anemia'})\n",
        "\n",
        "# Menampilkan DataFrame hasil perubahan\n",
        "df.head(jumlah_baris)"
      ],
      "metadata": {
        "colab": {
          "base_uri": "https://localhost:8080/",
          "height": 423
        },
        "id": "wnXY73Y4ejKM",
        "outputId": "18e81bda-7337-4746-9229-be6519b4f474"
      },
      "execution_count": 166,
      "outputs": [
        {
          "output_type": "execute_result",
          "data": {
            "text/plain": [
              "         Gender  Hemoglobin   MCH  MCHC   MCV        Result\n",
              "0     Perempuan        14.9  22.7  29.1  83.7  Tidak Anemia\n",
              "1     Laki-laki        15.9  25.4  28.3  72.0  Tidak Anemia\n",
              "2     Laki-laki         9.0  21.5  29.6  71.2        Anemia\n",
              "3     Laki-laki        14.9  16.0  31.4  87.5  Tidak Anemia\n",
              "4     Perempuan        14.7  22.0  28.2  99.5  Tidak Anemia\n",
              "...         ...         ...   ...   ...   ...           ...\n",
              "1416  Laki-laki        10.6  25.4  28.2  82.9        Anemia\n",
              "1417  Perempuan        12.1  28.3  30.4  86.9        Anemia\n",
              "1418  Perempuan        13.1  17.7  28.1  80.7        Anemia\n",
              "1419  Laki-laki        14.3  16.2  29.5  95.2  Tidak Anemia\n",
              "1420  Laki-laki        11.8  21.2  28.4  98.1        Anemia\n",
              "\n",
              "[1421 rows x 6 columns]"
            ],
            "text/html": [
              "\n",
              "  <div id=\"df-47539580-acf9-4cc7-acd0-16f9b7a15c7b\">\n",
              "    <div class=\"colab-df-container\">\n",
              "      <div>\n",
              "<style scoped>\n",
              "    .dataframe tbody tr th:only-of-type {\n",
              "        vertical-align: middle;\n",
              "    }\n",
              "\n",
              "    .dataframe tbody tr th {\n",
              "        vertical-align: top;\n",
              "    }\n",
              "\n",
              "    .dataframe thead th {\n",
              "        text-align: right;\n",
              "    }\n",
              "</style>\n",
              "<table border=\"1\" class=\"dataframe\">\n",
              "  <thead>\n",
              "    <tr style=\"text-align: right;\">\n",
              "      <th></th>\n",
              "      <th>Gender</th>\n",
              "      <th>Hemoglobin</th>\n",
              "      <th>MCH</th>\n",
              "      <th>MCHC</th>\n",
              "      <th>MCV</th>\n",
              "      <th>Result</th>\n",
              "    </tr>\n",
              "  </thead>\n",
              "  <tbody>\n",
              "    <tr>\n",
              "      <th>0</th>\n",
              "      <td>Perempuan</td>\n",
              "      <td>14.9</td>\n",
              "      <td>22.7</td>\n",
              "      <td>29.1</td>\n",
              "      <td>83.7</td>\n",
              "      <td>Tidak Anemia</td>\n",
              "    </tr>\n",
              "    <tr>\n",
              "      <th>1</th>\n",
              "      <td>Laki-laki</td>\n",
              "      <td>15.9</td>\n",
              "      <td>25.4</td>\n",
              "      <td>28.3</td>\n",
              "      <td>72.0</td>\n",
              "      <td>Tidak Anemia</td>\n",
              "    </tr>\n",
              "    <tr>\n",
              "      <th>2</th>\n",
              "      <td>Laki-laki</td>\n",
              "      <td>9.0</td>\n",
              "      <td>21.5</td>\n",
              "      <td>29.6</td>\n",
              "      <td>71.2</td>\n",
              "      <td>Anemia</td>\n",
              "    </tr>\n",
              "    <tr>\n",
              "      <th>3</th>\n",
              "      <td>Laki-laki</td>\n",
              "      <td>14.9</td>\n",
              "      <td>16.0</td>\n",
              "      <td>31.4</td>\n",
              "      <td>87.5</td>\n",
              "      <td>Tidak Anemia</td>\n",
              "    </tr>\n",
              "    <tr>\n",
              "      <th>4</th>\n",
              "      <td>Perempuan</td>\n",
              "      <td>14.7</td>\n",
              "      <td>22.0</td>\n",
              "      <td>28.2</td>\n",
              "      <td>99.5</td>\n",
              "      <td>Tidak Anemia</td>\n",
              "    </tr>\n",
              "    <tr>\n",
              "      <th>...</th>\n",
              "      <td>...</td>\n",
              "      <td>...</td>\n",
              "      <td>...</td>\n",
              "      <td>...</td>\n",
              "      <td>...</td>\n",
              "      <td>...</td>\n",
              "    </tr>\n",
              "    <tr>\n",
              "      <th>1416</th>\n",
              "      <td>Laki-laki</td>\n",
              "      <td>10.6</td>\n",
              "      <td>25.4</td>\n",
              "      <td>28.2</td>\n",
              "      <td>82.9</td>\n",
              "      <td>Anemia</td>\n",
              "    </tr>\n",
              "    <tr>\n",
              "      <th>1417</th>\n",
              "      <td>Perempuan</td>\n",
              "      <td>12.1</td>\n",
              "      <td>28.3</td>\n",
              "      <td>30.4</td>\n",
              "      <td>86.9</td>\n",
              "      <td>Anemia</td>\n",
              "    </tr>\n",
              "    <tr>\n",
              "      <th>1418</th>\n",
              "      <td>Perempuan</td>\n",
              "      <td>13.1</td>\n",
              "      <td>17.7</td>\n",
              "      <td>28.1</td>\n",
              "      <td>80.7</td>\n",
              "      <td>Anemia</td>\n",
              "    </tr>\n",
              "    <tr>\n",
              "      <th>1419</th>\n",
              "      <td>Laki-laki</td>\n",
              "      <td>14.3</td>\n",
              "      <td>16.2</td>\n",
              "      <td>29.5</td>\n",
              "      <td>95.2</td>\n",
              "      <td>Tidak Anemia</td>\n",
              "    </tr>\n",
              "    <tr>\n",
              "      <th>1420</th>\n",
              "      <td>Laki-laki</td>\n",
              "      <td>11.8</td>\n",
              "      <td>21.2</td>\n",
              "      <td>28.4</td>\n",
              "      <td>98.1</td>\n",
              "      <td>Anemia</td>\n",
              "    </tr>\n",
              "  </tbody>\n",
              "</table>\n",
              "<p>1421 rows × 6 columns</p>\n",
              "</div>\n",
              "      <button class=\"colab-df-convert\" onclick=\"convertToInteractive('df-47539580-acf9-4cc7-acd0-16f9b7a15c7b')\"\n",
              "              title=\"Convert this dataframe to an interactive table.\"\n",
              "              style=\"display:none;\">\n",
              "        \n",
              "  <svg xmlns=\"http://www.w3.org/2000/svg\" height=\"24px\"viewBox=\"0 0 24 24\"\n",
              "       width=\"24px\">\n",
              "    <path d=\"M0 0h24v24H0V0z\" fill=\"none\"/>\n",
              "    <path d=\"M18.56 5.44l.94 2.06.94-2.06 2.06-.94-2.06-.94-.94-2.06-.94 2.06-2.06.94zm-11 1L8.5 8.5l.94-2.06 2.06-.94-2.06-.94L8.5 2.5l-.94 2.06-2.06.94zm10 10l.94 2.06.94-2.06 2.06-.94-2.06-.94-.94-2.06-.94 2.06-2.06.94z\"/><path d=\"M17.41 7.96l-1.37-1.37c-.4-.4-.92-.59-1.43-.59-.52 0-1.04.2-1.43.59L10.3 9.45l-7.72 7.72c-.78.78-.78 2.05 0 2.83L4 21.41c.39.39.9.59 1.41.59.51 0 1.02-.2 1.41-.59l7.78-7.78 2.81-2.81c.8-.78.8-2.07 0-2.86zM5.41 20L4 18.59l7.72-7.72 1.47 1.35L5.41 20z\"/>\n",
              "  </svg>\n",
              "      </button>\n",
              "      \n",
              "  <style>\n",
              "    .colab-df-container {\n",
              "      display:flex;\n",
              "      flex-wrap:wrap;\n",
              "      gap: 12px;\n",
              "    }\n",
              "\n",
              "    .colab-df-convert {\n",
              "      background-color: #E8F0FE;\n",
              "      border: none;\n",
              "      border-radius: 50%;\n",
              "      cursor: pointer;\n",
              "      display: none;\n",
              "      fill: #1967D2;\n",
              "      height: 32px;\n",
              "      padding: 0 0 0 0;\n",
              "      width: 32px;\n",
              "    }\n",
              "\n",
              "    .colab-df-convert:hover {\n",
              "      background-color: #E2EBFA;\n",
              "      box-shadow: 0px 1px 2px rgba(60, 64, 67, 0.3), 0px 1px 3px 1px rgba(60, 64, 67, 0.15);\n",
              "      fill: #174EA6;\n",
              "    }\n",
              "\n",
              "    [theme=dark] .colab-df-convert {\n",
              "      background-color: #3B4455;\n",
              "      fill: #D2E3FC;\n",
              "    }\n",
              "\n",
              "    [theme=dark] .colab-df-convert:hover {\n",
              "      background-color: #434B5C;\n",
              "      box-shadow: 0px 1px 3px 1px rgba(0, 0, 0, 0.15);\n",
              "      filter: drop-shadow(0px 1px 2px rgba(0, 0, 0, 0.3));\n",
              "      fill: #FFFFFF;\n",
              "    }\n",
              "  </style>\n",
              "\n",
              "      <script>\n",
              "        const buttonEl =\n",
              "          document.querySelector('#df-47539580-acf9-4cc7-acd0-16f9b7a15c7b button.colab-df-convert');\n",
              "        buttonEl.style.display =\n",
              "          google.colab.kernel.accessAllowed ? 'block' : 'none';\n",
              "\n",
              "        async function convertToInteractive(key) {\n",
              "          const element = document.querySelector('#df-47539580-acf9-4cc7-acd0-16f9b7a15c7b');\n",
              "          const dataTable =\n",
              "            await google.colab.kernel.invokeFunction('convertToInteractive',\n",
              "                                                     [key], {});\n",
              "          if (!dataTable) return;\n",
              "\n",
              "          const docLinkHtml = 'Like what you see? Visit the ' +\n",
              "            '<a target=\"_blank\" href=https://colab.research.google.com/notebooks/data_table.ipynb>data table notebook</a>'\n",
              "            + ' to learn more about interactive tables.';\n",
              "          element.innerHTML = '';\n",
              "          dataTable['output_type'] = 'display_data';\n",
              "          await google.colab.output.renderOutput(dataTable, element);\n",
              "          const docLink = document.createElement('div');\n",
              "          docLink.innerHTML = docLinkHtml;\n",
              "          element.appendChild(docLink);\n",
              "        }\n",
              "      </script>\n",
              "    </div>\n",
              "  </div>\n",
              "  "
            ]
          },
          "metadata": {},
          "execution_count": 166
        }
      ]
    },
    {
      "cell_type": "markdown",
      "source": [
        "Mengecek nilai yang hilang/kosong pada data"
      ],
      "metadata": {
        "id": "UT3MlyWAjLUw"
      }
    },
    {
      "cell_type": "code",
      "source": [
        "df = df.copy()\n",
        "df.isnull().sum()"
      ],
      "metadata": {
        "colab": {
          "base_uri": "https://localhost:8080/"
        },
        "id": "7vp9jBMtCUfG",
        "outputId": "2719fdd4-4efa-46ac-b384-64be30f7bce8"
      },
      "execution_count": 167,
      "outputs": [
        {
          "output_type": "execute_result",
          "data": {
            "text/plain": [
              "Gender        0\n",
              "Hemoglobin    0\n",
              "MCH           0\n",
              "MCHC          0\n",
              "MCV           0\n",
              "Result        0\n",
              "dtype: int64"
            ]
          },
          "metadata": {},
          "execution_count": 167
        }
      ]
    },
    {
      "cell_type": "markdown",
      "source": [
        "Mengganti nilai yang mengandung tanda tanya (?) menjadi nilai kosong"
      ],
      "metadata": {
        "id": "kIJPCVIEkL28"
      }
    },
    {
      "cell_type": "code",
      "source": [
        "df = df.replace('?',np.nan)"
      ],
      "metadata": {
        "id": "fDCCLfL-DNkR"
      },
      "execution_count": 168,
      "outputs": []
    },
    {
      "cell_type": "markdown",
      "source": [
        "Mengecek lagi apakah ada nilai yang kosong pada data"
      ],
      "metadata": {
        "id": "8HBpDNagkVFT"
      }
    },
    {
      "cell_type": "code",
      "source": [
        "df.isnull().sum()"
      ],
      "metadata": {
        "colab": {
          "base_uri": "https://localhost:8080/"
        },
        "id": "gIEc5DZQDxRf",
        "outputId": "d6e9b729-3a67-41e6-ad90-aaa9f9843d57"
      },
      "execution_count": 169,
      "outputs": [
        {
          "output_type": "execute_result",
          "data": {
            "text/plain": [
              "Gender        0\n",
              "Hemoglobin    0\n",
              "MCH           0\n",
              "MCHC          0\n",
              "MCV           0\n",
              "Result        0\n",
              "dtype: int64"
            ]
          },
          "metadata": {},
          "execution_count": 169
        }
      ]
    },
    {
      "cell_type": "markdown",
      "source": [
        "Setelah itu kita lihat type data pada fitur, jika type datanya bukan numerik maka perlu diubah type datanya"
      ],
      "metadata": {
        "id": "JhVAli1HkghR"
      }
    },
    {
      "cell_type": "code",
      "source": [
        "df.info()"
      ],
      "metadata": {
        "colab": {
          "base_uri": "https://localhost:8080/"
        },
        "id": "MvHn5VT8EljM",
        "outputId": "e4e1a446-384e-4d5e-fb14-f12ed5f90cb4"
      },
      "execution_count": 170,
      "outputs": [
        {
          "output_type": "stream",
          "name": "stdout",
          "text": [
            "<class 'pandas.core.frame.DataFrame'>\n",
            "RangeIndex: 1421 entries, 0 to 1420\n",
            "Data columns (total 6 columns):\n",
            " #   Column      Non-Null Count  Dtype  \n",
            "---  ------      --------------  -----  \n",
            " 0   Gender      1421 non-null   object \n",
            " 1   Hemoglobin  1421 non-null   float64\n",
            " 2   MCH         1421 non-null   float64\n",
            " 3   MCHC        1421 non-null   float64\n",
            " 4   MCV         1421 non-null   float64\n",
            " 5   Result      1421 non-null   object \n",
            "dtypes: float64(4), object(2)\n",
            "memory usage: 66.7+ KB\n"
          ]
        }
      ]
    },
    {
      "cell_type": "markdown",
      "source": [
        "Menghitung jumlah target pada dataset"
      ],
      "metadata": {
        "id": "VG_WEtyn-Cxd"
      }
    },
    {
      "cell_type": "code",
      "source": [
        "# Menghitung jumlah target\n",
        "jumlah_target = df['Result'].value_counts()\n",
        "\n",
        "# Menampilkan hasil\n",
        "print(jumlah_target)"
      ],
      "metadata": {
        "colab": {
          "base_uri": "https://localhost:8080/"
        },
        "id": "x4A2HO9F-DHw",
        "outputId": "9556fa25-5d2c-4f1e-e332-e87f92761058"
      },
      "execution_count": 171,
      "outputs": [
        {
          "output_type": "stream",
          "name": "stdout",
          "text": [
            "Tidak Anemia    801\n",
            "Anemia          620\n",
            "Name: Result, dtype: int64\n"
          ]
        }
      ]
    },
    {
      "cell_type": "markdown",
      "source": [
        "Melakukan Normalisasi Data"
      ],
      "metadata": {
        "id": "1dwc6fxtBxud"
      }
    },
    {
      "cell_type": "code",
      "source": [
        "# Mengambil kolom-kolom yang diinginkan\n",
        "data = df.copy()\n",
        "selected_data = data[['Gender',\t'Hemoglobin',\t'MCH',\t'MCHC',\t'MCV', 'Result']]\n",
        "\n",
        "# Melakukan normalisasi Min-Max Scaling pada kolom numerik\n",
        "numeric_data = selected_data[['Hemoglobin',\t'MCH',\t'MCHC',\t'MCV']]\n",
        "minmax = MinMaxScaler()\n",
        "normalized_numeric = minmax.fit_transform(numeric_data)\n",
        "\n",
        "# Mengubah kolom categorical menjadi angka menggunakan LabelEncoder\n",
        "categorical_data = selected_data[['Gender', 'Result']]\n",
        "# Data gender\n",
        "label_encoder_gender = LabelEncoder()\n",
        "encoded_gender = label_encoder_gender.fit_transform(categorical_data['Gender'])\n",
        "# Data result\n",
        "label_encoder_result = LabelEncoder()\n",
        "encoded_result = label_encoder_result.fit_transform(categorical_data['Result'])\n",
        "\n",
        "# Menggabungkan kembali data yang telah dinormalisasi\n",
        "normalized_data = pd.DataFrame(\n",
        "    {\n",
        "        'Gender': encoded_gender,\n",
        "        'Hemoglobin': normalized_numeric[:, 0],\n",
        "        'MCH': normalized_numeric[:, 1],\n",
        "        'MCHC': normalized_numeric[:, 2],\n",
        "        'MCV': normalized_numeric[:, 3],\n",
        "        'Result': encoded_result,\n",
        "    }\n",
        ")\n",
        "\n",
        "normalized_data.head(jumlah_baris)"
      ],
      "metadata": {
        "colab": {
          "base_uri": "https://localhost:8080/",
          "height": 423
        },
        "id": "8aSH7CftB1b6",
        "outputId": "40300b80-fcbb-48da-a253-fb46ecefaa6d"
      },
      "execution_count": 172,
      "outputs": [
        {
          "output_type": "execute_result",
          "data": {
            "text/plain": [
              "      Gender  Hemoglobin       MCH      MCHC       MCV  Result\n",
              "0          1    0.805825  0.478571  0.276596  0.444099       1\n",
              "1          0    0.902913  0.671429  0.106383  0.080745       1\n",
              "2          0    0.233010  0.392857  0.382979  0.055901       0\n",
              "3          0    0.805825  0.000000  0.765957  0.562112       1\n",
              "4          1    0.786408  0.428571  0.085106  0.934783       1\n",
              "...      ...         ...       ...       ...       ...     ...\n",
              "1416       0    0.388350  0.671429  0.085106  0.419255       0\n",
              "1417       1    0.533981  0.878571  0.553191  0.543478       0\n",
              "1418       1    0.631068  0.121429  0.063830  0.350932       0\n",
              "1419       0    0.747573  0.014286  0.361702  0.801242       1\n",
              "1420       0    0.504854  0.371429  0.127660  0.891304       0\n",
              "\n",
              "[1421 rows x 6 columns]"
            ],
            "text/html": [
              "\n",
              "  <div id=\"df-d33d8ae6-849a-44bd-865d-207875a432e8\">\n",
              "    <div class=\"colab-df-container\">\n",
              "      <div>\n",
              "<style scoped>\n",
              "    .dataframe tbody tr th:only-of-type {\n",
              "        vertical-align: middle;\n",
              "    }\n",
              "\n",
              "    .dataframe tbody tr th {\n",
              "        vertical-align: top;\n",
              "    }\n",
              "\n",
              "    .dataframe thead th {\n",
              "        text-align: right;\n",
              "    }\n",
              "</style>\n",
              "<table border=\"1\" class=\"dataframe\">\n",
              "  <thead>\n",
              "    <tr style=\"text-align: right;\">\n",
              "      <th></th>\n",
              "      <th>Gender</th>\n",
              "      <th>Hemoglobin</th>\n",
              "      <th>MCH</th>\n",
              "      <th>MCHC</th>\n",
              "      <th>MCV</th>\n",
              "      <th>Result</th>\n",
              "    </tr>\n",
              "  </thead>\n",
              "  <tbody>\n",
              "    <tr>\n",
              "      <th>0</th>\n",
              "      <td>1</td>\n",
              "      <td>0.805825</td>\n",
              "      <td>0.478571</td>\n",
              "      <td>0.276596</td>\n",
              "      <td>0.444099</td>\n",
              "      <td>1</td>\n",
              "    </tr>\n",
              "    <tr>\n",
              "      <th>1</th>\n",
              "      <td>0</td>\n",
              "      <td>0.902913</td>\n",
              "      <td>0.671429</td>\n",
              "      <td>0.106383</td>\n",
              "      <td>0.080745</td>\n",
              "      <td>1</td>\n",
              "    </tr>\n",
              "    <tr>\n",
              "      <th>2</th>\n",
              "      <td>0</td>\n",
              "      <td>0.233010</td>\n",
              "      <td>0.392857</td>\n",
              "      <td>0.382979</td>\n",
              "      <td>0.055901</td>\n",
              "      <td>0</td>\n",
              "    </tr>\n",
              "    <tr>\n",
              "      <th>3</th>\n",
              "      <td>0</td>\n",
              "      <td>0.805825</td>\n",
              "      <td>0.000000</td>\n",
              "      <td>0.765957</td>\n",
              "      <td>0.562112</td>\n",
              "      <td>1</td>\n",
              "    </tr>\n",
              "    <tr>\n",
              "      <th>4</th>\n",
              "      <td>1</td>\n",
              "      <td>0.786408</td>\n",
              "      <td>0.428571</td>\n",
              "      <td>0.085106</td>\n",
              "      <td>0.934783</td>\n",
              "      <td>1</td>\n",
              "    </tr>\n",
              "    <tr>\n",
              "      <th>...</th>\n",
              "      <td>...</td>\n",
              "      <td>...</td>\n",
              "      <td>...</td>\n",
              "      <td>...</td>\n",
              "      <td>...</td>\n",
              "      <td>...</td>\n",
              "    </tr>\n",
              "    <tr>\n",
              "      <th>1416</th>\n",
              "      <td>0</td>\n",
              "      <td>0.388350</td>\n",
              "      <td>0.671429</td>\n",
              "      <td>0.085106</td>\n",
              "      <td>0.419255</td>\n",
              "      <td>0</td>\n",
              "    </tr>\n",
              "    <tr>\n",
              "      <th>1417</th>\n",
              "      <td>1</td>\n",
              "      <td>0.533981</td>\n",
              "      <td>0.878571</td>\n",
              "      <td>0.553191</td>\n",
              "      <td>0.543478</td>\n",
              "      <td>0</td>\n",
              "    </tr>\n",
              "    <tr>\n",
              "      <th>1418</th>\n",
              "      <td>1</td>\n",
              "      <td>0.631068</td>\n",
              "      <td>0.121429</td>\n",
              "      <td>0.063830</td>\n",
              "      <td>0.350932</td>\n",
              "      <td>0</td>\n",
              "    </tr>\n",
              "    <tr>\n",
              "      <th>1419</th>\n",
              "      <td>0</td>\n",
              "      <td>0.747573</td>\n",
              "      <td>0.014286</td>\n",
              "      <td>0.361702</td>\n",
              "      <td>0.801242</td>\n",
              "      <td>1</td>\n",
              "    </tr>\n",
              "    <tr>\n",
              "      <th>1420</th>\n",
              "      <td>0</td>\n",
              "      <td>0.504854</td>\n",
              "      <td>0.371429</td>\n",
              "      <td>0.127660</td>\n",
              "      <td>0.891304</td>\n",
              "      <td>0</td>\n",
              "    </tr>\n",
              "  </tbody>\n",
              "</table>\n",
              "<p>1421 rows × 6 columns</p>\n",
              "</div>\n",
              "      <button class=\"colab-df-convert\" onclick=\"convertToInteractive('df-d33d8ae6-849a-44bd-865d-207875a432e8')\"\n",
              "              title=\"Convert this dataframe to an interactive table.\"\n",
              "              style=\"display:none;\">\n",
              "        \n",
              "  <svg xmlns=\"http://www.w3.org/2000/svg\" height=\"24px\"viewBox=\"0 0 24 24\"\n",
              "       width=\"24px\">\n",
              "    <path d=\"M0 0h24v24H0V0z\" fill=\"none\"/>\n",
              "    <path d=\"M18.56 5.44l.94 2.06.94-2.06 2.06-.94-2.06-.94-.94-2.06-.94 2.06-2.06.94zm-11 1L8.5 8.5l.94-2.06 2.06-.94-2.06-.94L8.5 2.5l-.94 2.06-2.06.94zm10 10l.94 2.06.94-2.06 2.06-.94-2.06-.94-.94-2.06-.94 2.06-2.06.94z\"/><path d=\"M17.41 7.96l-1.37-1.37c-.4-.4-.92-.59-1.43-.59-.52 0-1.04.2-1.43.59L10.3 9.45l-7.72 7.72c-.78.78-.78 2.05 0 2.83L4 21.41c.39.39.9.59 1.41.59.51 0 1.02-.2 1.41-.59l7.78-7.78 2.81-2.81c.8-.78.8-2.07 0-2.86zM5.41 20L4 18.59l7.72-7.72 1.47 1.35L5.41 20z\"/>\n",
              "  </svg>\n",
              "      </button>\n",
              "      \n",
              "  <style>\n",
              "    .colab-df-container {\n",
              "      display:flex;\n",
              "      flex-wrap:wrap;\n",
              "      gap: 12px;\n",
              "    }\n",
              "\n",
              "    .colab-df-convert {\n",
              "      background-color: #E8F0FE;\n",
              "      border: none;\n",
              "      border-radius: 50%;\n",
              "      cursor: pointer;\n",
              "      display: none;\n",
              "      fill: #1967D2;\n",
              "      height: 32px;\n",
              "      padding: 0 0 0 0;\n",
              "      width: 32px;\n",
              "    }\n",
              "\n",
              "    .colab-df-convert:hover {\n",
              "      background-color: #E2EBFA;\n",
              "      box-shadow: 0px 1px 2px rgba(60, 64, 67, 0.3), 0px 1px 3px 1px rgba(60, 64, 67, 0.15);\n",
              "      fill: #174EA6;\n",
              "    }\n",
              "\n",
              "    [theme=dark] .colab-df-convert {\n",
              "      background-color: #3B4455;\n",
              "      fill: #D2E3FC;\n",
              "    }\n",
              "\n",
              "    [theme=dark] .colab-df-convert:hover {\n",
              "      background-color: #434B5C;\n",
              "      box-shadow: 0px 1px 3px 1px rgba(0, 0, 0, 0.15);\n",
              "      filter: drop-shadow(0px 1px 2px rgba(0, 0, 0, 0.3));\n",
              "      fill: #FFFFFF;\n",
              "    }\n",
              "  </style>\n",
              "\n",
              "      <script>\n",
              "        const buttonEl =\n",
              "          document.querySelector('#df-d33d8ae6-849a-44bd-865d-207875a432e8 button.colab-df-convert');\n",
              "        buttonEl.style.display =\n",
              "          google.colab.kernel.accessAllowed ? 'block' : 'none';\n",
              "\n",
              "        async function convertToInteractive(key) {\n",
              "          const element = document.querySelector('#df-d33d8ae6-849a-44bd-865d-207875a432e8');\n",
              "          const dataTable =\n",
              "            await google.colab.kernel.invokeFunction('convertToInteractive',\n",
              "                                                     [key], {});\n",
              "          if (!dataTable) return;\n",
              "\n",
              "          const docLinkHtml = 'Like what you see? Visit the ' +\n",
              "            '<a target=\"_blank\" href=https://colab.research.google.com/notebooks/data_table.ipynb>data table notebook</a>'\n",
              "            + ' to learn more about interactive tables.';\n",
              "          element.innerHTML = '';\n",
              "          dataTable['output_type'] = 'display_data';\n",
              "          await google.colab.output.renderOutput(dataTable, element);\n",
              "          const docLink = document.createElement('div');\n",
              "          docLink.innerHTML = docLinkHtml;\n",
              "          element.appendChild(docLink);\n",
              "        }\n",
              "      </script>\n",
              "    </div>\n",
              "  </div>\n",
              "  "
            ]
          },
          "metadata": {},
          "execution_count": 172
        }
      ]
    },
    {
      "cell_type": "markdown",
      "source": [
        "Menyimpan data normalisasi"
      ],
      "metadata": {
        "id": "OkGKjhWLCBZG"
      }
    },
    {
      "cell_type": "code",
      "source": [
        "with open('minmax.pkl', 'wb') as file:\n",
        "    pickle.dump(minmax, file)\n",
        "\n",
        "with open('label_encoder_gender.pkl', 'wb') as file:\n",
        "    pickle.dump(label_encoder_gender, file)\n",
        "\n",
        "with open('label_encoder_result.pkl', 'wb') as file:\n",
        "    pickle.dump(label_encoder_result, file)"
      ],
      "metadata": {
        "id": "VCWqWGwRCH4o"
      },
      "execution_count": 173,
      "outputs": []
    },
    {
      "cell_type": "markdown",
      "source": [
        "Membagi dataset menjadi data training dan data testing (0.8/0.2)"
      ],
      "metadata": {
        "id": "XWs_wlp8-rJi"
      }
    },
    {
      "cell_type": "code",
      "source": [
        "# Memisahkan fitur dan target\n",
        "X = normalized_data[['Gender',\t'Hemoglobin',\t'MCH',\t'MCHC',\t'MCV']].copy()\n",
        "y = normalized_data['Result'].copy()"
      ],
      "metadata": {
        "id": "EDRWEUImKQhO"
      },
      "execution_count": 174,
      "outputs": []
    },
    {
      "cell_type": "code",
      "source": [
        "# Split data into train and test data\n",
        "X_train, X_test, y_train, y_test = train_test_split(X, y, test_size=0.2, random_state = 42)"
      ],
      "metadata": {
        "id": "MzaixqaJ-rdk"
      },
      "execution_count": 175,
      "outputs": []
    },
    {
      "cell_type": "markdown",
      "source": [
        "## 1. Decision Tree"
      ],
      "metadata": {
        "id": "d_59M5Z2trFJ"
      }
    },
    {
      "cell_type": "markdown",
      "source": [
        "Import library Decision Tree"
      ],
      "metadata": {
        "id": "rU-ZhVyOuXal"
      }
    },
    {
      "cell_type": "code",
      "source": [
        "import matplotlib.pyplot as plt\n",
        "import graphviz\n",
        "from sklearn import tree\n",
        "from sklearn.tree import DecisionTreeClassifier"
      ],
      "metadata": {
        "id": "S8IWGKPxuWRx"
      },
      "execution_count": 176,
      "outputs": []
    },
    {
      "cell_type": "markdown",
      "source": [
        "Membuat model Decision Tree dengan metode impurity criterion Gini"
      ],
      "metadata": {
        "id": "QNxVK2YPk6TH"
      }
    },
    {
      "cell_type": "code",
      "source": [
        "# membuat klasifikasi Decision Tree dengan kedalaman maksimum 3 dan kriteria pemisahan (splitting) Gini impurity.\n",
        "clf_gini = DecisionTreeClassifier(criterion=\"gini\", random_state=42)\n",
        "\n",
        "# membuat model\n",
        "clf_gini.fit(X_train, y_train)"
      ],
      "metadata": {
        "id": "kIkDqKHOjNpE",
        "colab": {
          "base_uri": "https://localhost:8080/",
          "height": 74
        },
        "outputId": "42236bec-f305-409e-f7bd-c28da9fc1d09"
      },
      "execution_count": 177,
      "outputs": [
        {
          "output_type": "execute_result",
          "data": {
            "text/plain": [
              "DecisionTreeClassifier(random_state=42)"
            ],
            "text/html": [
              "<style>#sk-container-id-21 {color: black;background-color: white;}#sk-container-id-21 pre{padding: 0;}#sk-container-id-21 div.sk-toggleable {background-color: white;}#sk-container-id-21 label.sk-toggleable__label {cursor: pointer;display: block;width: 100%;margin-bottom: 0;padding: 0.3em;box-sizing: border-box;text-align: center;}#sk-container-id-21 label.sk-toggleable__label-arrow:before {content: \"▸\";float: left;margin-right: 0.25em;color: #696969;}#sk-container-id-21 label.sk-toggleable__label-arrow:hover:before {color: black;}#sk-container-id-21 div.sk-estimator:hover label.sk-toggleable__label-arrow:before {color: black;}#sk-container-id-21 div.sk-toggleable__content {max-height: 0;max-width: 0;overflow: hidden;text-align: left;background-color: #f0f8ff;}#sk-container-id-21 div.sk-toggleable__content pre {margin: 0.2em;color: black;border-radius: 0.25em;background-color: #f0f8ff;}#sk-container-id-21 input.sk-toggleable__control:checked~div.sk-toggleable__content {max-height: 200px;max-width: 100%;overflow: auto;}#sk-container-id-21 input.sk-toggleable__control:checked~label.sk-toggleable__label-arrow:before {content: \"▾\";}#sk-container-id-21 div.sk-estimator input.sk-toggleable__control:checked~label.sk-toggleable__label {background-color: #d4ebff;}#sk-container-id-21 div.sk-label input.sk-toggleable__control:checked~label.sk-toggleable__label {background-color: #d4ebff;}#sk-container-id-21 input.sk-hidden--visually {border: 0;clip: rect(1px 1px 1px 1px);clip: rect(1px, 1px, 1px, 1px);height: 1px;margin: -1px;overflow: hidden;padding: 0;position: absolute;width: 1px;}#sk-container-id-21 div.sk-estimator {font-family: monospace;background-color: #f0f8ff;border: 1px dotted black;border-radius: 0.25em;box-sizing: border-box;margin-bottom: 0.5em;}#sk-container-id-21 div.sk-estimator:hover {background-color: #d4ebff;}#sk-container-id-21 div.sk-parallel-item::after {content: \"\";width: 100%;border-bottom: 1px solid gray;flex-grow: 1;}#sk-container-id-21 div.sk-label:hover label.sk-toggleable__label {background-color: #d4ebff;}#sk-container-id-21 div.sk-serial::before {content: \"\";position: absolute;border-left: 1px solid gray;box-sizing: border-box;top: 0;bottom: 0;left: 50%;z-index: 0;}#sk-container-id-21 div.sk-serial {display: flex;flex-direction: column;align-items: center;background-color: white;padding-right: 0.2em;padding-left: 0.2em;position: relative;}#sk-container-id-21 div.sk-item {position: relative;z-index: 1;}#sk-container-id-21 div.sk-parallel {display: flex;align-items: stretch;justify-content: center;background-color: white;position: relative;}#sk-container-id-21 div.sk-item::before, #sk-container-id-21 div.sk-parallel-item::before {content: \"\";position: absolute;border-left: 1px solid gray;box-sizing: border-box;top: 0;bottom: 0;left: 50%;z-index: -1;}#sk-container-id-21 div.sk-parallel-item {display: flex;flex-direction: column;z-index: 1;position: relative;background-color: white;}#sk-container-id-21 div.sk-parallel-item:first-child::after {align-self: flex-end;width: 50%;}#sk-container-id-21 div.sk-parallel-item:last-child::after {align-self: flex-start;width: 50%;}#sk-container-id-21 div.sk-parallel-item:only-child::after {width: 0;}#sk-container-id-21 div.sk-dashed-wrapped {border: 1px dashed gray;margin: 0 0.4em 0.5em 0.4em;box-sizing: border-box;padding-bottom: 0.4em;background-color: white;}#sk-container-id-21 div.sk-label label {font-family: monospace;font-weight: bold;display: inline-block;line-height: 1.2em;}#sk-container-id-21 div.sk-label-container {text-align: center;}#sk-container-id-21 div.sk-container {/* jupyter's `normalize.less` sets `[hidden] { display: none; }` but bootstrap.min.css set `[hidden] { display: none !important; }` so we also need the `!important` here to be able to override the default hidden behavior on the sphinx rendered scikit-learn.org. See: https://github.com/scikit-learn/scikit-learn/issues/21755 */display: inline-block !important;position: relative;}#sk-container-id-21 div.sk-text-repr-fallback {display: none;}</style><div id=\"sk-container-id-21\" class=\"sk-top-container\"><div class=\"sk-text-repr-fallback\"><pre>DecisionTreeClassifier(random_state=42)</pre><b>In a Jupyter environment, please rerun this cell to show the HTML representation or trust the notebook. <br />On GitHub, the HTML representation is unable to render, please try loading this page with nbviewer.org.</b></div><div class=\"sk-container\" hidden><div class=\"sk-item\"><div class=\"sk-estimator sk-toggleable\"><input class=\"sk-toggleable__control sk-hidden--visually\" id=\"sk-estimator-id-21\" type=\"checkbox\" checked><label for=\"sk-estimator-id-21\" class=\"sk-toggleable__label sk-toggleable__label-arrow\">DecisionTreeClassifier</label><div class=\"sk-toggleable__content\"><pre>DecisionTreeClassifier(random_state=42)</pre></div></div></div></div></div>"
            ]
          },
          "metadata": {},
          "execution_count": 177
        }
      ]
    },
    {
      "cell_type": "markdown",
      "source": [
        "Menampilkan visualisasi decision tree dalam bentuk grafik yang berisi informasi seperti fitur yang digunakan, nilai ambang yang digunakan dalam setiap node, dan label kelas yang dihasilkan oleh model."
      ],
      "metadata": {
        "id": "wMSq9CJEiyNw"
      }
    },
    {
      "cell_type": "code",
      "source": [
        "dot_data = tree.export_graphviz(clf_gini, out_file=None, \n",
        "                              feature_names=X.columns,  \n",
        "                              class_names=df['Result'].unique(),  \n",
        "                              filled=True, rounded=True,  \n",
        "                              special_characters=True)\n",
        "\n",
        "graph = graphviz.Source(dot_data) \n",
        "\n",
        "graph "
      ],
      "metadata": {
        "colab": {
          "base_uri": "https://localhost:8080/",
          "height": 599
        },
        "id": "1mKhS0rXleh6",
        "outputId": "e0216ee2-2472-4c9f-d370-b01ceb5bc63e"
      },
      "execution_count": 178,
      "outputs": [
        {
          "output_type": "execute_result",
          "data": {
            "image/svg+xml": "<?xml version=\"1.0\" encoding=\"UTF-8\" standalone=\"no\"?>\n<!DOCTYPE svg PUBLIC \"-//W3C//DTD SVG 1.1//EN\"\n \"http://www.w3.org/Graphics/SVG/1.1/DTD/svg11.dtd\">\n<!-- Generated by graphviz version 2.43.0 (0)\n -->\n<!-- Title: Tree Pages: 1 -->\n<svg width=\"437pt\" height=\"433pt\"\n viewBox=\"0.00 0.00 437.00 433.00\" xmlns=\"http://www.w3.org/2000/svg\" xmlns:xlink=\"http://www.w3.org/1999/xlink\">\n<g id=\"graph0\" class=\"graph\" transform=\"scale(1 1) rotate(0) translate(4 429)\">\n<title>Tree</title>\n<polygon fill=\"white\" stroke=\"transparent\" points=\"-4,4 -4,-429 433,-429 433,4 -4,4\"/>\n<!-- 0 -->\n<g id=\"node1\" class=\"node\">\n<title>0</title>\n<path fill=\"#d0e8f9\" stroke=\"black\" d=\"M358,-425C358,-425 244,-425 244,-425 238,-425 232,-419 232,-413 232,-413 232,-354 232,-354 232,-348 238,-342 244,-342 244,-342 358,-342 358,-342 364,-342 370,-348 370,-354 370,-354 370,-413 370,-413 370,-419 364,-425 358,-425\"/>\n<text text-anchor=\"start\" x=\"240\" y=\"-409.8\" font-family=\"Helvetica,sans-Serif\" font-size=\"14.00\">Hemoglobin ≤ 0.665</text>\n<text text-anchor=\"start\" x=\"265.5\" y=\"-394.8\" font-family=\"Helvetica,sans-Serif\" font-size=\"14.00\">gini = 0.491</text>\n<text text-anchor=\"start\" x=\"252.5\" y=\"-379.8\" font-family=\"Helvetica,sans-Serif\" font-size=\"14.00\">samples = 1136</text>\n<text text-anchor=\"start\" x=\"246.5\" y=\"-364.8\" font-family=\"Helvetica,sans-Serif\" font-size=\"14.00\">value = [492, 644]</text>\n<text text-anchor=\"start\" x=\"254.5\" y=\"-349.8\" font-family=\"Helvetica,sans-Serif\" font-size=\"14.00\">class = Anemia</text>\n</g>\n<!-- 1 -->\n<g id=\"node2\" class=\"node\">\n<title>1</title>\n<path fill=\"#eca26d\" stroke=\"black\" d=\"M289,-306C289,-306 167,-306 167,-306 161,-306 155,-300 155,-294 155,-294 155,-235 155,-235 155,-229 161,-223 167,-223 167,-223 289,-223 289,-223 295,-223 301,-229 301,-235 301,-235 301,-294 301,-294 301,-300 295,-306 289,-306\"/>\n<text text-anchor=\"start\" x=\"188\" y=\"-290.8\" font-family=\"Helvetica,sans-Serif\" font-size=\"14.00\">Gender ≤ 0.5</text>\n<text text-anchor=\"start\" x=\"192.5\" y=\"-275.8\" font-family=\"Helvetica,sans-Serif\" font-size=\"14.00\">gini = 0.329</text>\n<text text-anchor=\"start\" x=\"183\" y=\"-260.8\" font-family=\"Helvetica,sans-Serif\" font-size=\"14.00\">samples = 621</text>\n<text text-anchor=\"start\" x=\"173.5\" y=\"-245.8\" font-family=\"Helvetica,sans-Serif\" font-size=\"14.00\">value = [492, 129]</text>\n<text text-anchor=\"start\" x=\"163\" y=\"-230.8\" font-family=\"Helvetica,sans-Serif\" font-size=\"14.00\">class = Tidak Anemia</text>\n</g>\n<!-- 0&#45;&gt;1 -->\n<g id=\"edge1\" class=\"edge\">\n<title>0&#45;&gt;1</title>\n<path fill=\"none\" stroke=\"black\" d=\"M275.67,-341.91C270.18,-333.1 264.31,-323.7 258.64,-314.61\"/>\n<polygon fill=\"black\" stroke=\"black\" points=\"261.55,-312.65 253.28,-306.02 255.61,-316.36 261.55,-312.65\"/>\n<text text-anchor=\"middle\" x=\"247.64\" y=\"-326.68\" font-family=\"Helvetica,sans-Serif\" font-size=\"14.00\">True</text>\n</g>\n<!-- 6 -->\n<g id=\"node7\" class=\"node\">\n<title>6</title>\n<path fill=\"#399de5\" stroke=\"black\" d=\"M417,-298.5C417,-298.5 331,-298.5 331,-298.5 325,-298.5 319,-292.5 319,-286.5 319,-286.5 319,-242.5 319,-242.5 319,-236.5 325,-230.5 331,-230.5 331,-230.5 417,-230.5 417,-230.5 423,-230.5 429,-236.5 429,-242.5 429,-242.5 429,-286.5 429,-286.5 429,-292.5 423,-298.5 417,-298.5\"/>\n<text text-anchor=\"start\" x=\"346\" y=\"-283.3\" font-family=\"Helvetica,sans-Serif\" font-size=\"14.00\">gini = 0.0</text>\n<text text-anchor=\"start\" x=\"329\" y=\"-268.3\" font-family=\"Helvetica,sans-Serif\" font-size=\"14.00\">samples = 515</text>\n<text text-anchor=\"start\" x=\"327\" y=\"-253.3\" font-family=\"Helvetica,sans-Serif\" font-size=\"14.00\">value = [0, 515]</text>\n<text text-anchor=\"start\" x=\"327.5\" y=\"-238.3\" font-family=\"Helvetica,sans-Serif\" font-size=\"14.00\">class = Anemia</text>\n</g>\n<!-- 0&#45;&gt;6 -->\n<g id=\"edge6\" class=\"edge\">\n<title>0&#45;&gt;6</title>\n<path fill=\"none\" stroke=\"black\" d=\"M326.33,-341.91C333.28,-330.76 340.83,-318.66 347.83,-307.44\"/>\n<polygon fill=\"black\" stroke=\"black\" points=\"350.98,-309 353.31,-298.67 345.04,-305.3 350.98,-309\"/>\n<text text-anchor=\"middle\" x=\"358.95\" y=\"-319.32\" font-family=\"Helvetica,sans-Serif\" font-size=\"14.00\">False</text>\n</g>\n<!-- 2 -->\n<g id=\"node3\" class=\"node\">\n<title>2</title>\n<path fill=\"#f9e4d4\" stroke=\"black\" d=\"M207,-187C207,-187 85,-187 85,-187 79,-187 73,-181 73,-175 73,-175 73,-116 73,-116 73,-110 79,-104 85,-104 85,-104 207,-104 207,-104 213,-104 219,-110 219,-116 219,-116 219,-175 219,-175 219,-181 213,-187 207,-187\"/>\n<text text-anchor=\"start\" x=\"85\" y=\"-171.8\" font-family=\"Helvetica,sans-Serif\" font-size=\"14.00\">Hemoglobin ≤ 0.519</text>\n<text text-anchor=\"start\" x=\"110.5\" y=\"-156.8\" font-family=\"Helvetica,sans-Serif\" font-size=\"14.00\">gini = 0.493</text>\n<text text-anchor=\"start\" x=\"101\" y=\"-141.8\" font-family=\"Helvetica,sans-Serif\" font-size=\"14.00\">samples = 294</text>\n<text text-anchor=\"start\" x=\"91.5\" y=\"-126.8\" font-family=\"Helvetica,sans-Serif\" font-size=\"14.00\">value = [165, 129]</text>\n<text text-anchor=\"start\" x=\"81\" y=\"-111.8\" font-family=\"Helvetica,sans-Serif\" font-size=\"14.00\">class = Tidak Anemia</text>\n</g>\n<!-- 1&#45;&gt;2 -->\n<g id=\"edge2\" class=\"edge\">\n<title>1&#45;&gt;2</title>\n<path fill=\"none\" stroke=\"black\" d=\"M199.55,-222.91C193.32,-214.01 186.66,-204.51 180.22,-195.33\"/>\n<polygon fill=\"black\" stroke=\"black\" points=\"183,-193.2 174.4,-187.02 177.27,-197.22 183,-193.2\"/>\n</g>\n<!-- 5 -->\n<g id=\"node6\" class=\"node\">\n<title>5</title>\n<path fill=\"#e58139\" stroke=\"black\" d=\"M371,-179.5C371,-179.5 249,-179.5 249,-179.5 243,-179.5 237,-173.5 237,-167.5 237,-167.5 237,-123.5 237,-123.5 237,-117.5 243,-111.5 249,-111.5 249,-111.5 371,-111.5 371,-111.5 377,-111.5 383,-117.5 383,-123.5 383,-123.5 383,-167.5 383,-167.5 383,-173.5 377,-179.5 371,-179.5\"/>\n<text text-anchor=\"start\" x=\"282\" y=\"-164.3\" font-family=\"Helvetica,sans-Serif\" font-size=\"14.00\">gini = 0.0</text>\n<text text-anchor=\"start\" x=\"265\" y=\"-149.3\" font-family=\"Helvetica,sans-Serif\" font-size=\"14.00\">samples = 327</text>\n<text text-anchor=\"start\" x=\"263\" y=\"-134.3\" font-family=\"Helvetica,sans-Serif\" font-size=\"14.00\">value = [327, 0]</text>\n<text text-anchor=\"start\" x=\"245\" y=\"-119.3\" font-family=\"Helvetica,sans-Serif\" font-size=\"14.00\">class = Tidak Anemia</text>\n</g>\n<!-- 1&#45;&gt;5 -->\n<g id=\"edge5\" class=\"edge\">\n<title>1&#45;&gt;5</title>\n<path fill=\"none\" stroke=\"black\" d=\"M256.45,-222.91C264.34,-211.65 272.91,-199.42 280.84,-188.11\"/>\n<polygon fill=\"black\" stroke=\"black\" points=\"283.88,-189.86 286.75,-179.67 278.15,-185.85 283.88,-189.86\"/>\n</g>\n<!-- 3 -->\n<g id=\"node4\" class=\"node\">\n<title>3</title>\n<path fill=\"#e58139\" stroke=\"black\" d=\"M134,-68C134,-68 12,-68 12,-68 6,-68 0,-62 0,-56 0,-56 0,-12 0,-12 0,-6 6,0 12,0 12,0 134,0 134,0 140,0 146,-6 146,-12 146,-12 146,-56 146,-56 146,-62 140,-68 134,-68\"/>\n<text text-anchor=\"start\" x=\"45\" y=\"-52.8\" font-family=\"Helvetica,sans-Serif\" font-size=\"14.00\">gini = 0.0</text>\n<text text-anchor=\"start\" x=\"28\" y=\"-37.8\" font-family=\"Helvetica,sans-Serif\" font-size=\"14.00\">samples = 165</text>\n<text text-anchor=\"start\" x=\"26\" y=\"-22.8\" font-family=\"Helvetica,sans-Serif\" font-size=\"14.00\">value = [165, 0]</text>\n<text text-anchor=\"start\" x=\"8\" y=\"-7.8\" font-family=\"Helvetica,sans-Serif\" font-size=\"14.00\">class = Tidak Anemia</text>\n</g>\n<!-- 2&#45;&gt;3 -->\n<g id=\"edge3\" class=\"edge\">\n<title>2&#45;&gt;3</title>\n<path fill=\"none\" stroke=\"black\" d=\"M118.82,-103.73C112.92,-94.88 106.67,-85.51 100.75,-76.63\"/>\n<polygon fill=\"black\" stroke=\"black\" points=\"103.66,-74.68 95.2,-68.3 97.83,-78.56 103.66,-74.68\"/>\n</g>\n<!-- 4 -->\n<g id=\"node5\" class=\"node\">\n<title>4</title>\n<path fill=\"#399de5\" stroke=\"black\" d=\"M262,-68C262,-68 176,-68 176,-68 170,-68 164,-62 164,-56 164,-56 164,-12 164,-12 164,-6 170,0 176,0 176,0 262,0 262,0 268,0 274,-6 274,-12 274,-12 274,-56 274,-56 274,-62 268,-68 262,-68\"/>\n<text text-anchor=\"start\" x=\"191\" y=\"-52.8\" font-family=\"Helvetica,sans-Serif\" font-size=\"14.00\">gini = 0.0</text>\n<text text-anchor=\"start\" x=\"174\" y=\"-37.8\" font-family=\"Helvetica,sans-Serif\" font-size=\"14.00\">samples = 129</text>\n<text text-anchor=\"start\" x=\"172\" y=\"-22.8\" font-family=\"Helvetica,sans-Serif\" font-size=\"14.00\">value = [0, 129]</text>\n<text text-anchor=\"start\" x=\"172.5\" y=\"-7.8\" font-family=\"Helvetica,sans-Serif\" font-size=\"14.00\">class = Anemia</text>\n</g>\n<!-- 2&#45;&gt;4 -->\n<g id=\"edge4\" class=\"edge\">\n<title>2&#45;&gt;4</title>\n<path fill=\"none\" stroke=\"black\" d=\"M173.18,-103.73C179.08,-94.88 185.33,-85.51 191.25,-76.63\"/>\n<polygon fill=\"black\" stroke=\"black\" points=\"194.17,-78.56 196.8,-68.3 188.34,-74.68 194.17,-78.56\"/>\n</g>\n</g>\n</svg>\n",
            "text/plain": [
              "<graphviz.sources.Source at 0x7f0eac78e500>"
            ]
          },
          "metadata": {},
          "execution_count": 178
        }
      ]
    },
    {
      "cell_type": "markdown",
      "source": [
        "Menghitung akurasi model Decision Tree"
      ],
      "metadata": {
        "id": "4zxo3TmqjUCq"
      }
    },
    {
      "cell_type": "code",
      "source": [
        "# menghitung akurasi pada data testing\n",
        "y_pred_gini = clf_gini.predict(X_test)\n",
        "accuracy_dt = accuracy_score(y_test, y_pred_gini)\n",
        "print('Accuracy Decision Tree: {:.2f}'.format(accuracy_dt))"
      ],
      "metadata": {
        "colab": {
          "base_uri": "https://localhost:8080/"
        },
        "id": "N298C5u6OG2U",
        "outputId": "004a9d4f-2cd9-48eb-9a76-9fc74b2f85cc"
      },
      "execution_count": 179,
      "outputs": [
        {
          "output_type": "stream",
          "name": "stdout",
          "text": [
            "Accuracy Decision Tree: 1.00\n"
          ]
        }
      ]
    },
    {
      "cell_type": "markdown",
      "source": [
        "## 2. KNN"
      ],
      "metadata": {
        "id": "fxwp2xqLsVJy"
      }
    },
    {
      "cell_type": "markdown",
      "source": [
        "Import library KNN"
      ],
      "metadata": {
        "id": "t1TPqsZdu-Jz"
      }
    },
    {
      "cell_type": "code",
      "source": [
        "from sklearn.neighbors import KNeighborsClassifier"
      ],
      "metadata": {
        "id": "phw5qBR8u-kU"
      },
      "execution_count": 180,
      "outputs": []
    },
    {
      "cell_type": "markdown",
      "source": [
        "Membuat model KNN"
      ],
      "metadata": {
        "id": "C3GjIQBaDF6M"
      }
    },
    {
      "cell_type": "code",
      "source": [
        "# Membangun model KNN\n",
        "knn = KNeighborsClassifier(n_neighbors=3)"
      ],
      "metadata": {
        "id": "IW1wKWR6DPgD"
      },
      "execution_count": 181,
      "outputs": []
    },
    {
      "cell_type": "markdown",
      "source": [
        "Melatih model KNN"
      ],
      "metadata": {
        "id": "X-hV5GBeDQII"
      }
    },
    {
      "cell_type": "code",
      "source": [
        "# Melatih model dengan data latih\n",
        "knn.fit(X_train, y_train)"
      ],
      "metadata": {
        "colab": {
          "base_uri": "https://localhost:8080/",
          "height": 74
        },
        "id": "YnvoWNfnDYaP",
        "outputId": "2b22a0a0-b687-454d-a698-f7c2b8d8db9e"
      },
      "execution_count": 182,
      "outputs": [
        {
          "output_type": "execute_result",
          "data": {
            "text/plain": [
              "KNeighborsClassifier(n_neighbors=3)"
            ],
            "text/html": [
              "<style>#sk-container-id-22 {color: black;background-color: white;}#sk-container-id-22 pre{padding: 0;}#sk-container-id-22 div.sk-toggleable {background-color: white;}#sk-container-id-22 label.sk-toggleable__label {cursor: pointer;display: block;width: 100%;margin-bottom: 0;padding: 0.3em;box-sizing: border-box;text-align: center;}#sk-container-id-22 label.sk-toggleable__label-arrow:before {content: \"▸\";float: left;margin-right: 0.25em;color: #696969;}#sk-container-id-22 label.sk-toggleable__label-arrow:hover:before {color: black;}#sk-container-id-22 div.sk-estimator:hover label.sk-toggleable__label-arrow:before {color: black;}#sk-container-id-22 div.sk-toggleable__content {max-height: 0;max-width: 0;overflow: hidden;text-align: left;background-color: #f0f8ff;}#sk-container-id-22 div.sk-toggleable__content pre {margin: 0.2em;color: black;border-radius: 0.25em;background-color: #f0f8ff;}#sk-container-id-22 input.sk-toggleable__control:checked~div.sk-toggleable__content {max-height: 200px;max-width: 100%;overflow: auto;}#sk-container-id-22 input.sk-toggleable__control:checked~label.sk-toggleable__label-arrow:before {content: \"▾\";}#sk-container-id-22 div.sk-estimator input.sk-toggleable__control:checked~label.sk-toggleable__label {background-color: #d4ebff;}#sk-container-id-22 div.sk-label input.sk-toggleable__control:checked~label.sk-toggleable__label {background-color: #d4ebff;}#sk-container-id-22 input.sk-hidden--visually {border: 0;clip: rect(1px 1px 1px 1px);clip: rect(1px, 1px, 1px, 1px);height: 1px;margin: -1px;overflow: hidden;padding: 0;position: absolute;width: 1px;}#sk-container-id-22 div.sk-estimator {font-family: monospace;background-color: #f0f8ff;border: 1px dotted black;border-radius: 0.25em;box-sizing: border-box;margin-bottom: 0.5em;}#sk-container-id-22 div.sk-estimator:hover {background-color: #d4ebff;}#sk-container-id-22 div.sk-parallel-item::after {content: \"\";width: 100%;border-bottom: 1px solid gray;flex-grow: 1;}#sk-container-id-22 div.sk-label:hover label.sk-toggleable__label {background-color: #d4ebff;}#sk-container-id-22 div.sk-serial::before {content: \"\";position: absolute;border-left: 1px solid gray;box-sizing: border-box;top: 0;bottom: 0;left: 50%;z-index: 0;}#sk-container-id-22 div.sk-serial {display: flex;flex-direction: column;align-items: center;background-color: white;padding-right: 0.2em;padding-left: 0.2em;position: relative;}#sk-container-id-22 div.sk-item {position: relative;z-index: 1;}#sk-container-id-22 div.sk-parallel {display: flex;align-items: stretch;justify-content: center;background-color: white;position: relative;}#sk-container-id-22 div.sk-item::before, #sk-container-id-22 div.sk-parallel-item::before {content: \"\";position: absolute;border-left: 1px solid gray;box-sizing: border-box;top: 0;bottom: 0;left: 50%;z-index: -1;}#sk-container-id-22 div.sk-parallel-item {display: flex;flex-direction: column;z-index: 1;position: relative;background-color: white;}#sk-container-id-22 div.sk-parallel-item:first-child::after {align-self: flex-end;width: 50%;}#sk-container-id-22 div.sk-parallel-item:last-child::after {align-self: flex-start;width: 50%;}#sk-container-id-22 div.sk-parallel-item:only-child::after {width: 0;}#sk-container-id-22 div.sk-dashed-wrapped {border: 1px dashed gray;margin: 0 0.4em 0.5em 0.4em;box-sizing: border-box;padding-bottom: 0.4em;background-color: white;}#sk-container-id-22 div.sk-label label {font-family: monospace;font-weight: bold;display: inline-block;line-height: 1.2em;}#sk-container-id-22 div.sk-label-container {text-align: center;}#sk-container-id-22 div.sk-container {/* jupyter's `normalize.less` sets `[hidden] { display: none; }` but bootstrap.min.css set `[hidden] { display: none !important; }` so we also need the `!important` here to be able to override the default hidden behavior on the sphinx rendered scikit-learn.org. See: https://github.com/scikit-learn/scikit-learn/issues/21755 */display: inline-block !important;position: relative;}#sk-container-id-22 div.sk-text-repr-fallback {display: none;}</style><div id=\"sk-container-id-22\" class=\"sk-top-container\"><div class=\"sk-text-repr-fallback\"><pre>KNeighborsClassifier(n_neighbors=3)</pre><b>In a Jupyter environment, please rerun this cell to show the HTML representation or trust the notebook. <br />On GitHub, the HTML representation is unable to render, please try loading this page with nbviewer.org.</b></div><div class=\"sk-container\" hidden><div class=\"sk-item\"><div class=\"sk-estimator sk-toggleable\"><input class=\"sk-toggleable__control sk-hidden--visually\" id=\"sk-estimator-id-22\" type=\"checkbox\" checked><label for=\"sk-estimator-id-22\" class=\"sk-toggleable__label sk-toggleable__label-arrow\">KNeighborsClassifier</label><div class=\"sk-toggleable__content\"><pre>KNeighborsClassifier(n_neighbors=3)</pre></div></div></div></div></div>"
            ]
          },
          "metadata": {},
          "execution_count": 182
        }
      ]
    },
    {
      "cell_type": "markdown",
      "source": [
        "Menghitung akurasi model KNN"
      ],
      "metadata": {
        "id": "xI41GDu5Df7a"
      }
    },
    {
      "cell_type": "code",
      "source": [
        "# Memprediksi kelas target untuk data uji\n",
        "y_pred_knn = knn.predict(X_test)\n",
        "\n",
        "# Menghitung akurasi prediksi\n",
        "accuracy_knn = accuracy_score(y_test, y_pred_knn)\n",
        "print('Accuracy KNN: {:.2f}'.format(accuracy_knn))"
      ],
      "metadata": {
        "colab": {
          "base_uri": "https://localhost:8080/"
        },
        "id": "vZDl-88_KFYX",
        "outputId": "e3bb7936-88a2-4261-f2ba-b7da93b86cf7"
      },
      "execution_count": 183,
      "outputs": [
        {
          "output_type": "stream",
          "name": "stdout",
          "text": [
            "Accuracy KNN: 0.98\n"
          ]
        }
      ]
    },
    {
      "cell_type": "markdown",
      "source": [
        "## 3. Naive Bayes"
      ],
      "metadata": {
        "id": "TCflVpSFB2DN"
      }
    },
    {
      "cell_type": "markdown",
      "source": [
        "Import library Naive Bayes"
      ],
      "metadata": {
        "id": "-87lPSW8B9Ei"
      }
    },
    {
      "cell_type": "code",
      "source": [
        "from sklearn.naive_bayes import GaussianNB"
      ],
      "metadata": {
        "id": "cByvKDOXJUjR"
      },
      "execution_count": 184,
      "outputs": []
    },
    {
      "cell_type": "markdown",
      "source": [
        "Melakukan klasifikasi dengan metode Naive Bayes"
      ],
      "metadata": {
        "id": "2imBo1e6Dn9G"
      }
    },
    {
      "cell_type": "code",
      "source": [
        "# Membangun model Naive Bayes\n",
        "clf_gaussian = GaussianNB()"
      ],
      "metadata": {
        "id": "EFHnUZG0GXX6"
      },
      "execution_count": 185,
      "outputs": []
    },
    {
      "cell_type": "markdown",
      "source": [
        "Melatih model Naive Bayes"
      ],
      "metadata": {
        "id": "4kW1cf5tG7E2"
      }
    },
    {
      "cell_type": "code",
      "source": [
        "clf_gaussian.fit(X_train, y_train)"
      ],
      "metadata": {
        "colab": {
          "base_uri": "https://localhost:8080/",
          "height": 74
        },
        "id": "hD8P8La3G7Uv",
        "outputId": "eb0c5c28-3a85-49c0-f638-3ba09a7398a5"
      },
      "execution_count": 186,
      "outputs": [
        {
          "output_type": "execute_result",
          "data": {
            "text/plain": [
              "GaussianNB()"
            ],
            "text/html": [
              "<style>#sk-container-id-23 {color: black;background-color: white;}#sk-container-id-23 pre{padding: 0;}#sk-container-id-23 div.sk-toggleable {background-color: white;}#sk-container-id-23 label.sk-toggleable__label {cursor: pointer;display: block;width: 100%;margin-bottom: 0;padding: 0.3em;box-sizing: border-box;text-align: center;}#sk-container-id-23 label.sk-toggleable__label-arrow:before {content: \"▸\";float: left;margin-right: 0.25em;color: #696969;}#sk-container-id-23 label.sk-toggleable__label-arrow:hover:before {color: black;}#sk-container-id-23 div.sk-estimator:hover label.sk-toggleable__label-arrow:before {color: black;}#sk-container-id-23 div.sk-toggleable__content {max-height: 0;max-width: 0;overflow: hidden;text-align: left;background-color: #f0f8ff;}#sk-container-id-23 div.sk-toggleable__content pre {margin: 0.2em;color: black;border-radius: 0.25em;background-color: #f0f8ff;}#sk-container-id-23 input.sk-toggleable__control:checked~div.sk-toggleable__content {max-height: 200px;max-width: 100%;overflow: auto;}#sk-container-id-23 input.sk-toggleable__control:checked~label.sk-toggleable__label-arrow:before {content: \"▾\";}#sk-container-id-23 div.sk-estimator input.sk-toggleable__control:checked~label.sk-toggleable__label {background-color: #d4ebff;}#sk-container-id-23 div.sk-label input.sk-toggleable__control:checked~label.sk-toggleable__label {background-color: #d4ebff;}#sk-container-id-23 input.sk-hidden--visually {border: 0;clip: rect(1px 1px 1px 1px);clip: rect(1px, 1px, 1px, 1px);height: 1px;margin: -1px;overflow: hidden;padding: 0;position: absolute;width: 1px;}#sk-container-id-23 div.sk-estimator {font-family: monospace;background-color: #f0f8ff;border: 1px dotted black;border-radius: 0.25em;box-sizing: border-box;margin-bottom: 0.5em;}#sk-container-id-23 div.sk-estimator:hover {background-color: #d4ebff;}#sk-container-id-23 div.sk-parallel-item::after {content: \"\";width: 100%;border-bottom: 1px solid gray;flex-grow: 1;}#sk-container-id-23 div.sk-label:hover label.sk-toggleable__label {background-color: #d4ebff;}#sk-container-id-23 div.sk-serial::before {content: \"\";position: absolute;border-left: 1px solid gray;box-sizing: border-box;top: 0;bottom: 0;left: 50%;z-index: 0;}#sk-container-id-23 div.sk-serial {display: flex;flex-direction: column;align-items: center;background-color: white;padding-right: 0.2em;padding-left: 0.2em;position: relative;}#sk-container-id-23 div.sk-item {position: relative;z-index: 1;}#sk-container-id-23 div.sk-parallel {display: flex;align-items: stretch;justify-content: center;background-color: white;position: relative;}#sk-container-id-23 div.sk-item::before, #sk-container-id-23 div.sk-parallel-item::before {content: \"\";position: absolute;border-left: 1px solid gray;box-sizing: border-box;top: 0;bottom: 0;left: 50%;z-index: -1;}#sk-container-id-23 div.sk-parallel-item {display: flex;flex-direction: column;z-index: 1;position: relative;background-color: white;}#sk-container-id-23 div.sk-parallel-item:first-child::after {align-self: flex-end;width: 50%;}#sk-container-id-23 div.sk-parallel-item:last-child::after {align-self: flex-start;width: 50%;}#sk-container-id-23 div.sk-parallel-item:only-child::after {width: 0;}#sk-container-id-23 div.sk-dashed-wrapped {border: 1px dashed gray;margin: 0 0.4em 0.5em 0.4em;box-sizing: border-box;padding-bottom: 0.4em;background-color: white;}#sk-container-id-23 div.sk-label label {font-family: monospace;font-weight: bold;display: inline-block;line-height: 1.2em;}#sk-container-id-23 div.sk-label-container {text-align: center;}#sk-container-id-23 div.sk-container {/* jupyter's `normalize.less` sets `[hidden] { display: none; }` but bootstrap.min.css set `[hidden] { display: none !important; }` so we also need the `!important` here to be able to override the default hidden behavior on the sphinx rendered scikit-learn.org. See: https://github.com/scikit-learn/scikit-learn/issues/21755 */display: inline-block !important;position: relative;}#sk-container-id-23 div.sk-text-repr-fallback {display: none;}</style><div id=\"sk-container-id-23\" class=\"sk-top-container\"><div class=\"sk-text-repr-fallback\"><pre>GaussianNB()</pre><b>In a Jupyter environment, please rerun this cell to show the HTML representation or trust the notebook. <br />On GitHub, the HTML representation is unable to render, please try loading this page with nbviewer.org.</b></div><div class=\"sk-container\" hidden><div class=\"sk-item\"><div class=\"sk-estimator sk-toggleable\"><input class=\"sk-toggleable__control sk-hidden--visually\" id=\"sk-estimator-id-23\" type=\"checkbox\" checked><label for=\"sk-estimator-id-23\" class=\"sk-toggleable__label sk-toggleable__label-arrow\">GaussianNB</label><div class=\"sk-toggleable__content\"><pre>GaussianNB()</pre></div></div></div></div></div>"
            ]
          },
          "metadata": {},
          "execution_count": 186
        }
      ]
    },
    {
      "cell_type": "markdown",
      "source": [
        "Menghitung akurasi model Naive Bayes"
      ],
      "metadata": {
        "id": "AurC0j8JHN3w"
      }
    },
    {
      "cell_type": "code",
      "source": [
        "# Melakukan prediksi target menggunakan model Gaussian Naive Bayes yang telah dilatih\n",
        "y_pred_gaussian = clf_gaussian.predict(X_test)\n",
        "\n",
        "# Menghitung akurasi prediksi\n",
        "accuracy_nb = accuracy_score(y_test, y_pred_gaussian)\n",
        "print('Accuracy Naive Bayes: {:.2f}'.format(accuracy_nb))"
      ],
      "metadata": {
        "id": "Wm4zifKcNJFk",
        "colab": {
          "base_uri": "https://localhost:8080/"
        },
        "outputId": "f012addf-c036-43b9-b06d-1e687f5881c8"
      },
      "execution_count": 187,
      "outputs": [
        {
          "output_type": "stream",
          "name": "stdout",
          "text": [
            "Accuracy Naive Bayes: 0.95\n"
          ]
        }
      ]
    },
    {
      "cell_type": "markdown",
      "source": [
        "## 4. Backpropagation Neural Network"
      ],
      "metadata": {
        "id": "azcIOgllMJCj"
      }
    },
    {
      "cell_type": "markdown",
      "source": [
        "Import library Backpropagation Neural Network"
      ],
      "metadata": {
        "id": "Cq55xYSeIqO2"
      }
    },
    {
      "cell_type": "code",
      "source": [
        "from sklearn.neural_network import MLPClassifier"
      ],
      "metadata": {
        "id": "GuGJr-BuPJaP"
      },
      "execution_count": 188,
      "outputs": []
    },
    {
      "cell_type": "markdown",
      "source": [
        "Melakukan klasifikasi dengan metode BNN"
      ],
      "metadata": {
        "id": "q9QtSle5IwOn"
      }
    },
    {
      "cell_type": "code",
      "source": [
        "mlp_clf = MLPClassifier(random_state=42, hidden_layer_sizes=(150,100,50),\n",
        "                        max_iter = 300, activation = 'logistic',\n",
        "                        solver = 'adam', alpha=0.0001)"
      ],
      "metadata": {
        "id": "j-yfRRCwIzNX"
      },
      "execution_count": 189,
      "outputs": []
    },
    {
      "cell_type": "markdown",
      "source": [
        "Melatih model BNN"
      ],
      "metadata": {
        "id": "Jx8crv5FJYjG"
      }
    },
    {
      "cell_type": "code",
      "source": [
        "# melakukan training pada model \n",
        "mlp_clf.fit(X_train, y_train)"
      ],
      "metadata": {
        "colab": {
          "base_uri": "https://localhost:8080/",
          "height": 91
        },
        "id": "j87M68C3Jc1z",
        "outputId": "b23dd21c-d62b-46e9-edab-b7c0d7d8e05b"
      },
      "execution_count": 190,
      "outputs": [
        {
          "output_type": "execute_result",
          "data": {
            "text/plain": [
              "MLPClassifier(activation='logistic', hidden_layer_sizes=(150, 100, 50),\n",
              "              max_iter=300, random_state=42)"
            ],
            "text/html": [
              "<style>#sk-container-id-24 {color: black;background-color: white;}#sk-container-id-24 pre{padding: 0;}#sk-container-id-24 div.sk-toggleable {background-color: white;}#sk-container-id-24 label.sk-toggleable__label {cursor: pointer;display: block;width: 100%;margin-bottom: 0;padding: 0.3em;box-sizing: border-box;text-align: center;}#sk-container-id-24 label.sk-toggleable__label-arrow:before {content: \"▸\";float: left;margin-right: 0.25em;color: #696969;}#sk-container-id-24 label.sk-toggleable__label-arrow:hover:before {color: black;}#sk-container-id-24 div.sk-estimator:hover label.sk-toggleable__label-arrow:before {color: black;}#sk-container-id-24 div.sk-toggleable__content {max-height: 0;max-width: 0;overflow: hidden;text-align: left;background-color: #f0f8ff;}#sk-container-id-24 div.sk-toggleable__content pre {margin: 0.2em;color: black;border-radius: 0.25em;background-color: #f0f8ff;}#sk-container-id-24 input.sk-toggleable__control:checked~div.sk-toggleable__content {max-height: 200px;max-width: 100%;overflow: auto;}#sk-container-id-24 input.sk-toggleable__control:checked~label.sk-toggleable__label-arrow:before {content: \"▾\";}#sk-container-id-24 div.sk-estimator input.sk-toggleable__control:checked~label.sk-toggleable__label {background-color: #d4ebff;}#sk-container-id-24 div.sk-label input.sk-toggleable__control:checked~label.sk-toggleable__label {background-color: #d4ebff;}#sk-container-id-24 input.sk-hidden--visually {border: 0;clip: rect(1px 1px 1px 1px);clip: rect(1px, 1px, 1px, 1px);height: 1px;margin: -1px;overflow: hidden;padding: 0;position: absolute;width: 1px;}#sk-container-id-24 div.sk-estimator {font-family: monospace;background-color: #f0f8ff;border: 1px dotted black;border-radius: 0.25em;box-sizing: border-box;margin-bottom: 0.5em;}#sk-container-id-24 div.sk-estimator:hover {background-color: #d4ebff;}#sk-container-id-24 div.sk-parallel-item::after {content: \"\";width: 100%;border-bottom: 1px solid gray;flex-grow: 1;}#sk-container-id-24 div.sk-label:hover label.sk-toggleable__label {background-color: #d4ebff;}#sk-container-id-24 div.sk-serial::before {content: \"\";position: absolute;border-left: 1px solid gray;box-sizing: border-box;top: 0;bottom: 0;left: 50%;z-index: 0;}#sk-container-id-24 div.sk-serial {display: flex;flex-direction: column;align-items: center;background-color: white;padding-right: 0.2em;padding-left: 0.2em;position: relative;}#sk-container-id-24 div.sk-item {position: relative;z-index: 1;}#sk-container-id-24 div.sk-parallel {display: flex;align-items: stretch;justify-content: center;background-color: white;position: relative;}#sk-container-id-24 div.sk-item::before, #sk-container-id-24 div.sk-parallel-item::before {content: \"\";position: absolute;border-left: 1px solid gray;box-sizing: border-box;top: 0;bottom: 0;left: 50%;z-index: -1;}#sk-container-id-24 div.sk-parallel-item {display: flex;flex-direction: column;z-index: 1;position: relative;background-color: white;}#sk-container-id-24 div.sk-parallel-item:first-child::after {align-self: flex-end;width: 50%;}#sk-container-id-24 div.sk-parallel-item:last-child::after {align-self: flex-start;width: 50%;}#sk-container-id-24 div.sk-parallel-item:only-child::after {width: 0;}#sk-container-id-24 div.sk-dashed-wrapped {border: 1px dashed gray;margin: 0 0.4em 0.5em 0.4em;box-sizing: border-box;padding-bottom: 0.4em;background-color: white;}#sk-container-id-24 div.sk-label label {font-family: monospace;font-weight: bold;display: inline-block;line-height: 1.2em;}#sk-container-id-24 div.sk-label-container {text-align: center;}#sk-container-id-24 div.sk-container {/* jupyter's `normalize.less` sets `[hidden] { display: none; }` but bootstrap.min.css set `[hidden] { display: none !important; }` so we also need the `!important` here to be able to override the default hidden behavior on the sphinx rendered scikit-learn.org. See: https://github.com/scikit-learn/scikit-learn/issues/21755 */display: inline-block !important;position: relative;}#sk-container-id-24 div.sk-text-repr-fallback {display: none;}</style><div id=\"sk-container-id-24\" class=\"sk-top-container\"><div class=\"sk-text-repr-fallback\"><pre>MLPClassifier(activation=&#x27;logistic&#x27;, hidden_layer_sizes=(150, 100, 50),\n",
              "              max_iter=300, random_state=42)</pre><b>In a Jupyter environment, please rerun this cell to show the HTML representation or trust the notebook. <br />On GitHub, the HTML representation is unable to render, please try loading this page with nbviewer.org.</b></div><div class=\"sk-container\" hidden><div class=\"sk-item\"><div class=\"sk-estimator sk-toggleable\"><input class=\"sk-toggleable__control sk-hidden--visually\" id=\"sk-estimator-id-24\" type=\"checkbox\" checked><label for=\"sk-estimator-id-24\" class=\"sk-toggleable__label sk-toggleable__label-arrow\">MLPClassifier</label><div class=\"sk-toggleable__content\"><pre>MLPClassifier(activation=&#x27;logistic&#x27;, hidden_layer_sizes=(150, 100, 50),\n",
              "              max_iter=300, random_state=42)</pre></div></div></div></div></div>"
            ]
          },
          "metadata": {},
          "execution_count": 190
        }
      ]
    },
    {
      "cell_type": "markdown",
      "source": [
        "Menghitung akurasi model BNN"
      ],
      "metadata": {
        "id": "LhesEEgUJgeS"
      }
    },
    {
      "cell_type": "code",
      "source": [
        "y_pred_mlp = mlp_clf.predict(X_test)\n",
        "accuracy_bnn = accuracy_score(y_test, y_pred_mlp)\n",
        "print('Accuracy BNN: {:.2f}'.format(accuracy_bnn))"
      ],
      "metadata": {
        "colab": {
          "base_uri": "https://localhost:8080/"
        },
        "id": "FAyEuFKaMVMA",
        "outputId": "4359728b-f176-4efe-f563-4cadb18227a2"
      },
      "execution_count": 191,
      "outputs": [
        {
          "output_type": "stream",
          "name": "stdout",
          "text": [
            "Accuracy BNN: 1.00\n"
          ]
        }
      ]
    },
    {
      "cell_type": "markdown",
      "source": [
        "### Menampilkan visualisasi model mana yang terbaik untuk diterapkan"
      ],
      "metadata": {
        "id": "dTvkiuMrQRtj"
      }
    },
    {
      "cell_type": "code",
      "source": [
        "# Membuat visualisasi perbandingan\n",
        "models = ['Decision Tree', 'KNN', 'Naive Bayes', 'BNN']\n",
        "accuracies = [accuracy_dt, accuracy_knn, accuracy_nb, accuracy_bnn]\n",
        "\n",
        "plt.bar(models, accuracies)\n",
        "plt.xlabel('Models')\n",
        "plt.ylabel('Accuracy')\n",
        "plt.title('Comparison of Classification Models')\n",
        "plt.ylim(0.9, 1.0)\n",
        "\n",
        "# Menambahkan teks persentase di bagian bawah batang\n",
        "for i, acc in enumerate(accuracies):\n",
        "    plt.text(i, acc - 0.005, f'{acc*100:.2f}%', ha='center')\n",
        "    \n",
        "plt.show()"
      ],
      "metadata": {
        "colab": {
          "base_uri": "https://localhost:8080/",
          "height": 472
        },
        "id": "Ip2PuobnQA5Z",
        "outputId": "7fd78f9d-4b4a-4de1-bdad-507d844a8d82"
      },
      "execution_count": 192,
      "outputs": [
        {
          "output_type": "display_data",
          "data": {
            "text/plain": [
              "<Figure size 640x480 with 1 Axes>"
            ],
            "image/png": "[encoded data removed]"
          },
          "metadata": {}
        }
      ]
    },
    {
      "cell_type": "markdown",
      "source": [
        "Menyimpan model terbaik dari model-model diatas"
      ],
      "metadata": {
        "id": "q9lr-PeeJ1a0"
      }
    },
    {
      "cell_type": "code",
      "source": [
        "# model Decision Tree yang terbaik\n",
        "with open('clf_gini.pkl', 'wb') as file:\n",
        "    pickle.dump(clf_gini, file)"
      ],
      "metadata": {
        "id": "BYX794x0J2F5"
      },
      "execution_count": 193,
      "outputs": []
    },
    {
      "cell_type": "markdown",
      "source": [
        "Meload semua Preprocessing dan Model yang telah kita simpan"
      ],
      "metadata": {
        "id": "cBt3Vl_wMZNK"
      }
    },
    {
      "cell_type": "code",
      "source": [
        "# Preprocessing\n",
        "with open('minmax.pkl', 'rb') as file:\n",
        "    minmax_load = pickle.load(file)\n",
        "\n",
        "with open('label_encoder_result.pkl', 'rb') as file:\n",
        "    label_encoder_result_load = pickle.load(file)\n",
        "\n",
        "with open('label_encoder_gender.pkl', 'rb') as file:\n",
        "    label_encoder_gender_load = pickle.load(file)\n",
        "\n",
        "# Model\n",
        "with open('clf_gini.pkl', 'rb') as file:\n",
        "    clf_gini_load = pickle.load(file)"
      ],
      "metadata": {
        "id": "UmY1IcREMZf0"
      },
      "execution_count": 194,
      "outputs": []
    },
    {
      "cell_type": "markdown",
      "source": [
        "Mencoba memprediksi dari model terbaik yang telah kita pilih"
      ],
      "metadata": {
        "id": "x95G66d_ci9x"
      }
    },
    {
      "cell_type": "code",
      "source": [
        "new_data = pd.DataFrame({\n",
        "    'Gender': ['Laki-laki'],\n",
        "    'Hemoglobin': [14.3],\n",
        "    'MCH': [16.2],\n",
        "    'MCHC': [29.5],\n",
        "    'MCV': [95.2]\n",
        "})\n",
        "\n",
        "# Melakukan normalisasi Min-Max Scaling pada kolom numerik\n",
        "normalisasi_numerik = minmax_load.transform(new_data[['Hemoglobin', 'MCH', 'MCHC', 'MCV']])\n",
        "\n",
        "# Melakukan normalisasi label encoder pada kolom kategorik\n",
        "normalisasi_kategorik = label_encoder_gender_load.transform(new_data['Gender'])\n",
        "\n",
        "# Menggabungkan kembali data yang telah dinormalisasi\n",
        "normalized_new_data = pd.DataFrame(\n",
        "    {\n",
        "        'Gender': normalisasi_kategorik,\n",
        "        'Hemoglobin': normalisasi_numerik[:, 0],\n",
        "        'MCH': normalisasi_numerik[:, 1],\n",
        "        'MCHC': normalisasi_numerik[:, 2],\n",
        "        'MCV': normalisasi_numerik[:, 3]\n",
        "    }\n",
        ")\n",
        "\n",
        "# Memprediksi dari model Decision Tree\n",
        "predicted_result = clf_gini_load.predict(normalized_new_data)\n",
        "\n",
        "# Mengubah hasil prediksi kembali menjadi label asli menggunakan inverse_transform pada LabelEncoder\n",
        "predicted_result = label_encoder_result_load.inverse_transform(predicted_result)\n",
        "\n",
        "print('Predicted Result:', predicted_result)"
      ],
      "metadata": {
        "colab": {
          "base_uri": "https://localhost:8080/"
        },
        "id": "BzlEmm5ycjPw",
        "outputId": "e418ebc8-4c09-4c31-9fd3-6c09a43ce987"
      },
      "execution_count": 195,
      "outputs": [
        {
          "output_type": "stream",
          "name": "stdout",
          "text": [
            "Predicted Result: ['Tidak Anemia']\n"
          ]
        }
      ]
    }
  ]
}